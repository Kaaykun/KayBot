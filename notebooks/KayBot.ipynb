{
 "cells": [
  {
   "cell_type": "markdown",
   "metadata": {},
   "source": [
    "## 1. Import Dependencies"
   ]
  },
  {
   "cell_type": "code",
   "execution_count": 2,
   "metadata": {},
   "outputs": [
    {
     "name": "stdout",
     "output_type": "stream",
     "text": [
      "pygame 2.5.2 (SDL 2.28.2, Python 3.10.6)\n",
      "Hello from the pygame community. https://www.pygame.org/contribute.html\n"
     ]
    }
   ],
   "source": [
    "%load_ext dotenv\n",
    "%dotenv\n",
    "\n",
    "# General Imports\n",
    "import os\n",
    "import glob\n",
    "import time\n",
    "import json\n",
    "import nltk\n",
    "import keras\n",
    "import pickle\n",
    "import random\n",
    "import requests\n",
    "import billboard\n",
    "import webbrowser\n",
    "import pygame.mixer\n",
    "import numpy as np\n",
    "\n",
    "# Google Search\n",
    "from googlesearch import *\n",
    "\n",
    "# Lemmatizer\n",
    "from nltk.stem import WordNetLemmatizer\n",
    "\n",
    "# Model\n",
    "from keras.models import Sequential\n",
    "from keras.callbacks import EarlyStopping\n",
    "from keras.layers import Dense, Dropout"
   ]
  },
  {
   "cell_type": "markdown",
   "metadata": {},
   "source": [
    "## 2. Constants and Paths"
   ]
  },
  {
   "cell_type": "code",
   "execution_count": 5,
   "metadata": {},
   "outputs": [],
   "source": [
    "DATA_PATH = os.path.abspath(os.path.join(os.getcwd(), '..', 'data'))\n",
    "MODEL_PATH = os.path.abspath(os.path.join(os.getcwd(), '..', 'models'))\n",
    "INTENTS_PATH = os.path.join(DATA_PATH, 'intents.json')\n",
    "WORDS_PATH = os.path.join(DATA_PATH, 'words.pkl')\n",
    "CLASSES_PATH = os.path.join(DATA_PATH, 'classes.pkl')\n",
    "\n",
    "# Initializing the WordNet lemmatizer\n",
    "lemmatizer = WordNetLemmatizer()"
   ]
  },
  {
   "cell_type": "markdown",
   "metadata": {},
   "source": [
    "## 3. Tokenize and Lemmatize the Intents"
   ]
  },
  {
   "cell_type": "code",
   "execution_count": 3,
   "metadata": {},
   "outputs": [],
   "source": [
    "# Lists to store words, classes, and documents\n",
    "words = []\n",
    "classes = []\n",
    "documents = []\n",
    "\n",
    "# Ignored characters in tokenization\n",
    "ignore = ['?','!',',',\"'s\"]"
   ]
  },
  {
   "cell_type": "code",
   "execution_count": 4,
   "metadata": {},
   "outputs": [
    {
     "ename": "NameError",
     "evalue": "name 'INTENTS_PATH' is not defined",
     "output_type": "error",
     "traceback": [
      "\u001b[0;31m---------------------------------------------------------------------------\u001b[0m",
      "\u001b[0;31mNameError\u001b[0m                                 Traceback (most recent call last)",
      "Cell \u001b[0;32mIn[4], line 2\u001b[0m\n\u001b[1;32m      1\u001b[0m \u001b[38;5;66;03m# Reading data from intents.json file\u001b[39;00m\n\u001b[0;32m----> 2\u001b[0m data_file \u001b[38;5;241m=\u001b[39m \u001b[38;5;28mopen\u001b[39m(\u001b[43mINTENTS_PATH\u001b[49m)\u001b[38;5;241m.\u001b[39mread()\n\u001b[1;32m      3\u001b[0m intents \u001b[38;5;241m=\u001b[39m json\u001b[38;5;241m.\u001b[39mloads(data_file)\n",
      "\u001b[0;31mNameError\u001b[0m: name 'INTENTS_PATH' is not defined"
     ]
    }
   ],
   "source": [
    "# Reading data from intents.json file\n",
    "data_file = open(INTENTS_PATH).read()\n",
    "intents = json.loads(data_file)"
   ]
  },
  {
   "cell_type": "code",
   "execution_count": 6,
   "metadata": {},
   "outputs": [],
   "source": [
    "# Loop through each intent in the intents dictionary\n",
    "for intent in intents['intents']:\n",
    "    # Loop through each pattern in the current intent\n",
    "    for pattern in intent['patterns']:\n",
    "        # Tokenize the pattern into words\n",
    "        w = nltk.word_tokenize(pattern)\n",
    "\n",
    "        # Extend the words list with the tokenized words\n",
    "        words.extend(w)\n",
    "\n",
    "        # Append a tuple containing (tokenized words, intent tag) to the documents list\n",
    "        documents.append((w, intent['tag']))\n",
    "\n",
    "        # Add intent tag to classes list, if still missing\n",
    "        if intent['tag'] not in classes:\n",
    "            classes.append(intent['tag'])"
   ]
  },
  {
   "cell_type": "code",
   "execution_count": 7,
   "metadata": {},
   "outputs": [],
   "source": [
    "# Lemmatize and lowercase each word in the words list, excluding ignored characters\n",
    "words = [lemmatizer.lemmatize(word.lower()) for word in words if word not in ignore]\n",
    "\n",
    "# Remove duplicate words, sort, and convert to a list\n",
    "words = sorted(list(set(words)))\n",
    "\n",
    "# Sort and convert classes to a list\n",
    "classes = sorted(list(set(classes)))\n",
    "\n",
    "# Save the preprocessed words and classes to pickle files for later use\n",
    "pickle.dump(words,open(WORDS_PATH,'wb'))\n",
    "pickle.dump(classes,open(CLASSES_PATH,'wb'))"
   ]
  },
  {
   "cell_type": "markdown",
   "metadata": {},
   "source": [
    "## 4. Preparing Training Data"
   ]
  },
  {
   "cell_type": "code",
   "execution_count": 8,
   "metadata": {},
   "outputs": [],
   "source": [
    "# List to store training data and initialize an empty output\n",
    "training = []\n",
    "output_empty = [0]*len(classes)"
   ]
  },
  {
   "cell_type": "code",
   "execution_count": 9,
   "metadata": {},
   "outputs": [],
   "source": [
    "# Iterate through each document in the documents list\n",
    "for doc in documents:\n",
    "    # Initialize an empty bag of words for the current document\n",
    "    bag = []\n",
    "\n",
    "    # Get the tokenized pattern from the document\n",
    "    pattern = doc[0]\n",
    "\n",
    "    # Lemmatize and lowercase each word in the pattern\n",
    "    pattern = [lemmatizer.lemmatize(word.lower()) for word in pattern ]\n",
    "\n",
    "    # Iterate through each word in the list of all words\n",
    "    for word in words:\n",
    "        # Check if the word is in the pattern, append 1 if true, 0 if false\n",
    "        if word in pattern:\n",
    "            bag.append(1)\n",
    "        else:\n",
    "            bag.append(0)\n",
    "\n",
    "    output_row = list(output_empty)\n",
    "    # Set the value at the index corresponding to the class of the current document to 1\n",
    "    output_row[classes.index(doc[1])] = 1\n",
    "\n",
    "    # Append a pair of the bag of words and the output row to the training list\n",
    "    training.append((bag, output_row))"
   ]
  },
  {
   "cell_type": "code",
   "execution_count": 10,
   "metadata": {},
   "outputs": [],
   "source": [
    "# Shuffle the training data randomly\n",
    "random.shuffle(training)\n",
    "\n",
    "# Separate the features (X_train) and labels (y_train) from the training array\n",
    "# Convert bag to NumPy array\n",
    "X_train = np.array([item[0] for item in training])\n",
    "# Convert output_row to NumPy array\n",
    "y_train = np.array([item[1] for item in training])"
   ]
  },
  {
   "cell_type": "markdown",
   "metadata": {},
   "source": [
    "## 5. Modelling"
   ]
  },
  {
   "cell_type": "code",
   "execution_count": 12,
   "metadata": {},
   "outputs": [],
   "source": [
    "def initialize_model(X_train, y_train):\n",
    "    # Initialize model architecture\n",
    "    model=Sequential()\n",
    "    model.add(Dense(128, activation='relu', input_shape=(len(X_train[0]),)))\n",
    "    model.add(Dropout(0.5))\n",
    "    model.add(Dense(64, activation='relu'))\n",
    "    model.add(Dense(64, activation='relu'))\n",
    "    model.add(Dropout(0.5))\n",
    "    model.add(Dense(len(y_train[0]), activation='softmax'))\n",
    "\n",
    "    # Compile model with given layers and metrics\n",
    "    adam = keras.optimizers.Adam(0.001)\n",
    "    model.compile(optimizer=adam,\n",
    "                  loss='categorical_crossentropy',\n",
    "                  metrics=['accuracy'])\n",
    "\n",
    "    # Define early stopping condition for training\n",
    "    early_stopping = EarlyStopping(monitor='accuracy', patience=10, restore_best_weights=True)\n",
    "\n",
    "    return model, early_stopping"
   ]
  },
  {
   "cell_type": "code",
   "execution_count": 35,
   "metadata": {},
   "outputs": [],
   "source": [
    "model, early_stopping = initialize_model(X_train, y_train)\n"
   ]
  },
  {
   "cell_type": "code",
   "execution_count": 36,
   "metadata": {},
   "outputs": [],
   "source": [
    "def train_model(model, X_train, y_train, early_stopping):\n",
    "    history = model.fit(X_train, y_train,\n",
    "                        epochs=200,\n",
    "                        batch_size=10,\n",
    "                        callbacks=[early_stopping],\n",
    "                        verbose=-1)\n",
    "\n",
    "    return history"
   ]
  },
  {
   "cell_type": "code",
   "execution_count": 45,
   "metadata": {},
   "outputs": [
    {
     "name": "stdout",
     "output_type": "stream",
     "text": [
      "Epoch 1/200\n",
      "Epoch 2/200\n",
      "Epoch 3/200\n",
      "Epoch 4/200\n",
      "Epoch 5/200\n",
      "Epoch 6/200\n",
      "Epoch 7/200\n",
      "Epoch 8/200\n",
      "Epoch 9/200\n",
      "Epoch 10/200\n",
      "Epoch 11/200\n",
      "Epoch 12/200\n",
      "Epoch 13/200\n",
      "Epoch 14/200\n",
      "Epoch 15/200\n",
      "Epoch 16/200\n",
      "Epoch 17/200\n",
      "Epoch 18/200\n",
      "Epoch 19/200\n",
      "Epoch 20/200\n",
      "Epoch 21/200\n",
      "Epoch 22/200\n",
      "Epoch 23/200\n",
      "Epoch 24/200\n",
      "Epoch 25/200\n",
      "Epoch 26/200\n",
      "Epoch 27/200\n",
      "Epoch 28/200\n",
      "Epoch 29/200\n",
      "Epoch 30/200\n",
      "Epoch 31/200\n",
      "Epoch 32/200\n",
      "Epoch 33/200\n",
      "Epoch 34/200\n",
      "Epoch 35/200\n",
      "Epoch 36/200\n",
      "dict_keys(['loss', 'accuracy'])\n"
     ]
    },
    {
     "data": {
      "text/plain": [
       "0.9642857313156128"
      ]
     },
     "execution_count": 45,
     "metadata": {},
     "output_type": "execute_result"
    }
   ],
   "source": [
    "history = train_model(model, X_train, y_train, early_stopping)\n",
    "print(history.history.keys())\n",
    "max(history.history['accuracy'])"
   ]
  },
  {
   "cell_type": "code",
   "execution_count": 46,
   "metadata": {},
   "outputs": [],
   "source": [
    "def save_model(history):\n",
    "    # Save as a new model with continuous versioning\n",
    "    for version in range(1, 99):\n",
    "        file = f'kaybot_model_{str(version)}.h5'\n",
    "        file_path = os.path.join(MODEL_PATH, file)\n",
    "        if not os.path.exists(file_path):\n",
    "            model.save(file_path, history)\n",
    "            print(f'✅ Model saved as \"{file}\"')\n",
    "            break\n",
    "    return None\n"
   ]
  },
  {
   "cell_type": "code",
   "execution_count": 47,
   "metadata": {},
   "outputs": [
    {
     "name": "stdout",
     "output_type": "stream",
     "text": [
      "✅ Model saved as \"kaybot_model_1.h5\"\n"
     ]
    },
    {
     "name": "stderr",
     "output_type": "stream",
     "text": [
      "/home/jarisfenner/.pyenv/versions/3.10.6/envs/KayBot/lib/python3.10/site-packages/keras/src/engine/training.py:3103: UserWarning: You are saving your model as an HDF5 file via `model.save()`. This file format is considered legacy. We recommend using instead the native Keras format, e.g. `model.save('my_model.keras')`.\n",
      "  saving_api.save_model(\n"
     ]
    }
   ],
   "source": [
    "save_model(history)"
   ]
  },
  {
   "cell_type": "markdown",
   "metadata": {},
   "source": [
    "## 6. Load local Model and Files\n",
    "#### After initial training of the model, notebook can be used by running the first two cells (1. Import Dependencies and 2. Constants and Paths) and everything below this point:"
   ]
  },
  {
   "cell_type": "code",
   "execution_count": 6,
   "metadata": {},
   "outputs": [],
   "source": [
    "def load_local_model():\n",
    "    # Loading a locally saved model\n",
    "    local_model_paths = glob.glob(f\"{MODEL_PATH}/*\")\n",
    "\n",
    "    # Return latest model\n",
    "    model_path_on_disk = sorted(local_model_paths)[-1]\n",
    "    model = keras.models.load_model(model_path_on_disk)\n",
    "    print(f\"✅ Model loaded from local disk: {model_path_on_disk}\")\n",
    "\n",
    "    return model"
   ]
  },
  {
   "cell_type": "code",
   "execution_count": 7,
   "metadata": {},
   "outputs": [],
   "source": [
    "def load_data_files():\n",
    "    intents = json.loads(open(INTENTS_PATH).read())\n",
    "    words = pickle.load(open(WORDS_PATH,'rb'))\n",
    "    classes = pickle.load(open(CLASSES_PATH,'rb'))\n",
    "    print(f\"✅ Intents loaded from local disk: {INTENTS_PATH}\")\n",
    "    print(f\"✅ Words loaded from local disk: {WORDS_PATH}\")\n",
    "    print(f\"✅ Classes loaded from local disk: {CLASSES_PATH}\")\n",
    "\n",
    "    return intents, words, classes"
   ]
  },
  {
   "cell_type": "code",
   "execution_count": 8,
   "metadata": {},
   "outputs": [
    {
     "name": "stderr",
     "output_type": "stream",
     "text": [
      "2024-01-19 14:45:38.132753: I external/local_xla/xla/stream_executor/cuda/cuda_executor.cc:887] could not open file to read NUMA node: /sys/bus/pci/devices/0000:2b:00.0/numa_node\n",
      "Your kernel may have been built without NUMA support.\n",
      "2024-01-19 14:45:38.133200: W tensorflow/core/common_runtime/gpu/gpu_device.cc:2256] Cannot dlopen some GPU libraries. Please make sure the missing libraries mentioned above are installed properly if you would like to use GPU. Follow the guide at https://www.tensorflow.org/install/gpu for how to download and setup the required libraries for your platform.\n",
      "Skipping registering GPU devices...\n"
     ]
    },
    {
     "name": "stdout",
     "output_type": "stream",
     "text": [
      "✅ Model loaded from local disk: /home/kaykun/code/Kaaykun/KayBot/models/kaybot_model_1.h5\n",
      "✅ Intents loaded from local disk: /home/kaykun/code/Kaaykun/KayBot/data/intents.json\n",
      "✅ Words loaded from local disk: /home/kaykun/code/Kaaykun/KayBot/data/words.pkl\n",
      "✅ Classes loaded from local disk: /home/kaykun/code/Kaaykun/KayBot/data/classes.pkl\n"
     ]
    }
   ],
   "source": [
    "model = load_local_model()\n",
    "intents, words, classes = load_data_files()"
   ]
  },
  {
   "cell_type": "markdown",
   "metadata": {},
   "source": [
    "## 7. Predicting"
   ]
  },
  {
   "cell_type": "code",
   "execution_count": 9,
   "metadata": {},
   "outputs": [],
   "source": [
    "def clean_up(sentence):\n",
    "    sentence_words = nltk.word_tokenize(sentence)\n",
    "    sentence_words = [lemmatizer.lemmatize(word.lower()) for word in sentence_words]\n",
    "\n",
    "    return sentence_words"
   ]
  },
  {
   "cell_type": "code",
   "execution_count": 10,
   "metadata": {},
   "outputs": [],
   "source": [
    "def create_bow(sentence, words): # bow = bag of words\n",
    "    sentence_words = clean_up(sentence)\n",
    "    bag = list(np.zeros(len(words)))\n",
    "\n",
    "    for s in sentence_words:\n",
    "        for i, w in enumerate(words):\n",
    "            if w == s:\n",
    "                bag[i] = 1\n",
    "\n",
    "    return np.array(bag)"
   ]
  },
  {
   "cell_type": "code",
   "execution_count": 11,
   "metadata": {},
   "outputs": [],
   "source": [
    "def predict_class(sentence, model):\n",
    "    p = create_bow(sentence, words)\n",
    "    res = model.predict(np.array([p]))[0]\n",
    "    threshold = 0.8\n",
    "\n",
    "    results = [[i, r] for i, r in enumerate(res) if r > threshold]\n",
    "    results.sort(key=lambda x: x[1], reverse=True)\n",
    "\n",
    "    return_list = []\n",
    "\n",
    "    for result in results:\n",
    "        return_list.append({'intent':classes[result[0]],'prob':str(result[1])})\n",
    "\n",
    "    return return_list"
   ]
  },
  {
   "cell_type": "code",
   "execution_count": 12,
   "metadata": {},
   "outputs": [],
   "source": [
    "def get_response(return_list, intents_json):\n",
    "    if len(return_list)==0:\n",
    "        tag = 'noanswer'\n",
    "    else:\n",
    "        tag = return_list[0]['intent']\n",
    "\n",
    "    if tag == 'datetime':\n",
    "        print(time.strftime(\"%A\"))\n",
    "        print(time.strftime(\"%d %B %Y\"))\n",
    "        print(time.strftime(\"%H:%M:%S\"))\n",
    "\n",
    "    if tag == 'google':\n",
    "        query = input('Enter query: ')\n",
    "        search_results = list(search(query, num_results=3))\n",
    "\n",
    "        for url in search_results:\n",
    "            webbrowser.open(url)\n",
    "\n",
    "    if tag == 'weather':\n",
    "        weather_api_key=os.environ.get('WEATHER_API_KEY')\n",
    "        city_name = input(\"Enter city name: \")\n",
    "        url = f'https://api.openweathermap.org/data/2.5/weather?appid={weather_api_key}&q={city_name}'\n",
    "\n",
    "        response = requests.get(url).json()\n",
    "\n",
    "        print('Present temp.: ',round(response['main']['temp']-273,2),'celcius ')\n",
    "        print('Feels Like:: ',round(response['main']['feels_like']-273,2),'celcius ')\n",
    "        print(response['weather'][0]['main'])\n",
    "\n",
    "    if tag == 'news':\n",
    "        news_api_key=os.environ.get('NEWS_API_KEY')\n",
    "        url = f'http://newsapi.org/v2/top-headlines?country=us&apiKey={news_api_key}'\n",
    "\n",
    "        open_news_page = requests.get(url).json()\n",
    "        articles = open_news_page[\"articles\"]\n",
    "\n",
    "        results = [[article[\"title\"], article[\"url\"]] for article in articles]\n",
    "\n",
    "        for i in range(10):\n",
    "            print(f'{i + 1})', results[i][0])\n",
    "            print(results[i][1],'\\n')\n",
    "\n",
    "    if tag == 'song':\n",
    "        chart = billboard.ChartData('hot-100')\n",
    "\n",
    "        print('The top 10 songs at the moment are:')\n",
    "        for i in range(10):\n",
    "            song = chart[i]\n",
    "            print(f\"{i + 1}) {song.title.ljust(30)} by: {song.artist.ljust(50)}\")\n",
    "\n",
    "    if tag == 'timer':\n",
    "        pygame.mixer.init()\n",
    "        minutes = float(input('Minutes to timer: '))\n",
    "\n",
    "        time.sleep(minutes * 60)\n",
    "\n",
    "        pygame.mixer.music.load('../backend/Handbell-ringing-sound-effect.mp3')\n",
    "        pygame.mixer.music.play()\n",
    "\n",
    "    list_of_intents = intents_json['intents']\n",
    "\n",
    "    for i in list_of_intents:\n",
    "        if tag == i['tag']:\n",
    "            result = random.choice(i['responses'])\n",
    "\n",
    "    return result"
   ]
  },
  {
   "cell_type": "code",
   "execution_count": 13,
   "metadata": {},
   "outputs": [],
   "source": [
    "def response(text):\n",
    "    return_list = predict_class(text, model)\n",
    "    response = get_response(return_list, intents)\n",
    "\n",
    "    return response"
   ]
  },
  {
   "cell_type": "code",
   "execution_count": 14,
   "metadata": {},
   "outputs": [
    {
     "name": "stdout",
     "output_type": "stream",
     "text": [
      "1/1 [==============================] - 0s 82ms/step\n",
      "Have a nice day\n"
     ]
    }
   ],
   "source": [
    "while(1):\n",
    "    x = input()\n",
    "    print(response(x))\n",
    "\n",
    "    if x.lower() in ['bye','goodbye','get lost','see you']:\n",
    "        break"
   ]
  },
  {
   "cell_type": "code",
   "execution_count": 23,
   "metadata": {},
   "outputs": [
    {
     "ename": "ImportError",
     "evalue": "cannot import name 'escape' from 'jinja2.utils' (/home/kaykun/.pyenv/versions/3.10.6/envs/KayBot/lib/python3.10/site-packages/jinja2/utils.py)",
     "output_type": "error",
     "traceback": [
      "\u001b[0;31m---------------------------------------------------------------------------\u001b[0m",
      "\u001b[0;31mImportError\u001b[0m                               Traceback (most recent call last)",
      "Cell \u001b[0;32mIn[23], line 1\u001b[0m\n\u001b[0;32m----> 1\u001b[0m \u001b[38;5;28;01mfrom\u001b[39;00m \u001b[38;5;21;01mjinja2\u001b[39;00m\u001b[38;5;21;01m.\u001b[39;00m\u001b[38;5;21;01mutils\u001b[39;00m \u001b[38;5;28;01mimport\u001b[39;00m escape\n\u001b[1;32m      2\u001b[0m \u001b[38;5;28;01mfrom\u001b[39;00m \u001b[38;5;21;01mflask_wtf\u001b[39;00m \u001b[38;5;28;01mimport\u001b[39;00m FlaskForm\n\u001b[1;32m      3\u001b[0m \u001b[38;5;28;01mfrom\u001b[39;00m \u001b[38;5;21;01mwtforms\u001b[39;00m \u001b[38;5;28;01mimport\u001b[39;00m StringField,TextAreaField,SubmitField\n",
      "\u001b[0;31mImportError\u001b[0m: cannot import name 'escape' from 'jinja2.utils' (/home/kaykun/.pyenv/versions/3.10.6/envs/KayBot/lib/python3.10/site-packages/jinja2/utils.py)"
     ]
    }
   ],
   "source": [
    "from jinja2.utils import escape\n",
    "from flask_wtf import FlaskForm\n",
    "from wtforms import StringField,TextAreaField,SubmitField\n",
    "from wtforms.validators import DataRequired\n",
    "\n",
    "\n",
    "class KayBotForm(FlaskForm):\n",
    "    user_input=StringField(validators=[DataRequired()])\n",
    "    send=SubmitField('Send')"
   ]
  },
  {
   "cell_type": "code",
   "execution_count": 17,
   "metadata": {},
   "outputs": [
    {
     "name": "stdout",
     "output_type": "stream",
     "text": [
      "932b3a197739c83feb8013ecca5fe91b\n",
      "{'coord': {'lon': 139.6917, 'lat': 35.6895}, 'weather': [{'id': 803, 'main': 'Clouds', 'description': 'broken clouds', 'icon': '04d'}], 'base': 'stations', 'main': {'temp': 286.89, 'feels_like': 285.7, 'temp_min': 285.74, 'temp_max': 287.39, 'pressure': 1021, 'humidity': 53}, 'visibility': 10000, 'wind': {'speed': 5.66, 'deg': 100}, 'clouds': {'all': 75}, 'dt': 1705643019, 'sys': {'type': 2, 'id': 2001249, 'country': 'JP', 'sunrise': 1705614559, 'sunset': 1705650812}, 'timezone': 32400, 'id': 1850144, 'name': 'Tokyo', 'cod': 200}\n",
      "Present temp.:  13.89 celcius \n",
      "Feels Like::  12.7 celcius \n",
      "Clouds\n"
     ]
    }
   ],
   "source": [
    "weather_api_key = os.environ.get('WEATHER_API_KEY')\n",
    "print(weather_api_key)\n",
    "city_name = input(\"Enter city name: \")\n",
    "url = f'https://api.openweathermap.org/data/2.5/weather?appid={weather_api_key}&q={city_name}'\n",
    "\n",
    "response = requests.get(url).json()\n",
    "print(response)\n",
    "\n",
    "print('Present temp.: ',round(response['main']['temp']-273,2),'celcius ')\n",
    "print('Feels Like:: ',round(response['main']['feels_like']-273,2),'celcius ')\n",
    "print(response['weather'][0]['main'])"
   ]
  },
  {
   "cell_type": "code",
   "execution_count": null,
   "metadata": {},
   "outputs": [],
   "source": []
  }
 ],
 "metadata": {
  "kernelspec": {
   "display_name": "KayBot",
   "language": "python",
   "name": "python3"
  },
  "language_info": {
   "codemirror_mode": {
    "name": "ipython",
    "version": 3
   },
   "file_extension": ".py",
   "mimetype": "text/x-python",
   "name": "python",
   "nbconvert_exporter": "python",
   "pygments_lexer": "ipython3",
   "version": "3.10.6"
  }
 },
 "nbformat": 4,
 "nbformat_minor": 2
}
