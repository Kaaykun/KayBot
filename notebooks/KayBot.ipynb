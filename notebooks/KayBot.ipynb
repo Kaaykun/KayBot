{
 "cells": [
  {
   "cell_type": "markdown",
   "metadata": {},
   "source": [
    "## 1. Import Dependencies"
   ]
  },
  {
   "cell_type": "code",
   "execution_count": 48,
   "metadata": {},
   "outputs": [],
   "source": [
    "import keras\n",
    "import os\n",
    "import nltk\n",
    "from nltk.stem import WordNetLemmatizer\n",
    "import pickle\n",
    "import json\n",
    "import numpy as np\n",
    "from keras.models import Sequential, load_model\n",
    "from keras.callbacks import EarlyStopping\n",
    "from keras.layers import Dense,Dropout,Activation\n",
    "import random\n",
    "import datetime\n",
    "from googlesearch import *\n",
    "import webbrowser\n",
    "import requests\n",
    "# from pycricbuzz import Cricbuzz\n",
    "# import billboard\n",
    "import time"
   ]
  },
  {
   "cell_type": "markdown",
   "metadata": {},
   "source": [
    "## 2. Constants and Paths"
   ]
  },
  {
   "cell_type": "code",
   "execution_count": 13,
   "metadata": {},
   "outputs": [],
   "source": [
    "DATA_PATH = os.path.abspath(os.path.join(os.getcwd(), '..', 'data'))\n",
    "MODEL_PATH = os.path.abspath(os.path.join(os.getcwd(), '..', 'models'))\n",
    "INTENTS_PATH = os.path.join(DATA_PATH, 'intents.json')\n",
    "WORDS_PATH = os.path.join(DATA_PATH, 'words.pkl')\n",
    "CLASSES_PATH = os.path.join(DATA_PATH, 'classes.pkl')"
   ]
  },
  {
   "cell_type": "markdown",
   "metadata": {},
   "source": [
    "## 3. Tokenize and Lemmatize the Intents"
   ]
  },
  {
   "cell_type": "code",
   "execution_count": 3,
   "metadata": {},
   "outputs": [],
   "source": [
    "# Initializing the WordNet lemmatizer\n",
    "lemmatizer=WordNetLemmatizer()\n"
   ]
  },
  {
   "cell_type": "code",
   "execution_count": 4,
   "metadata": {},
   "outputs": [],
   "source": [
    "# Lists to store words, classes, and documents\n",
    "words=[]\n",
    "classes=[]\n",
    "documents=[]\n",
    "\n",
    "# Ignored characters in tokenization\n",
    "ignore=['?','!',',',\"'s\"]"
   ]
  },
  {
   "cell_type": "code",
   "execution_count": 5,
   "metadata": {},
   "outputs": [],
   "source": [
    "# Reading data from intents.json file\n",
    "data_file=open(INTENTS_PATH).read()\n",
    "intents=json.loads(data_file)"
   ]
  },
  {
   "cell_type": "code",
   "execution_count": 6,
   "metadata": {},
   "outputs": [],
   "source": [
    "# Loop through each intent in the intents dictionary\n",
    "for intent in intents['intents']:\n",
    "    # Loop through each pattern in the current intent\n",
    "    for pattern in intent['patterns']:\n",
    "        # Tokenize the pattern into words\n",
    "        w = nltk.word_tokenize(pattern)\n",
    "\n",
    "        # Extend the words list with the tokenized words\n",
    "        words.extend(w)\n",
    "\n",
    "        # Append a tuple containing (tokenized words, intent tag) to the documents list\n",
    "        documents.append((w, intent['tag']))\n",
    "\n",
    "        # Add intent tag to classes list, if still missing\n",
    "        if intent['tag'] not in classes:\n",
    "            classes.append(intent['tag'])"
   ]
  },
  {
   "cell_type": "code",
   "execution_count": 7,
   "metadata": {},
   "outputs": [],
   "source": [
    "# Lemmatize and lowercase each word in the words list, excluding ignored characters\n",
    "words = [lemmatizer.lemmatize(word.lower()) for word in words if word not in ignore]\n",
    "\n",
    "# Remove duplicate words, sort, and convert to a list\n",
    "words = sorted(list(set(words)))\n",
    "\n",
    "# Sort and convert classes to a list\n",
    "classes = sorted(list(set(classes)))\n",
    "\n",
    "# Save the preprocessed words and classes to pickle files for later use\n",
    "pickle.dump(words,open(WORDS_PATH,'wb'))\n",
    "pickle.dump(classes,open(CLASSES_PATH,'wb'))"
   ]
  },
  {
   "cell_type": "markdown",
   "metadata": {},
   "source": [
    "## 4. Preparing Training Data"
   ]
  },
  {
   "cell_type": "code",
   "execution_count": 8,
   "metadata": {},
   "outputs": [],
   "source": [
    "# List to store training data and initialize an empty output\n",
    "training = []\n",
    "output_empty = [0]*len(classes)"
   ]
  },
  {
   "cell_type": "code",
   "execution_count": 9,
   "metadata": {},
   "outputs": [],
   "source": [
    "# Iterate through each document in the documents list\n",
    "for doc in documents:\n",
    "    # Initialize an empty bag of words for the current document\n",
    "    bag = []\n",
    "\n",
    "    # Get the tokenized pattern from the document\n",
    "    pattern = doc[0]\n",
    "\n",
    "    # Lemmatize and lowercase each word in the pattern\n",
    "    pattern = [lemmatizer.lemmatize(word.lower()) for word in pattern ]\n",
    "\n",
    "    # Iterate through each word in the list of all words\n",
    "    for word in words:\n",
    "        # Check if the word is in the pattern, append 1 if true, 0 if false\n",
    "        if word in pattern:\n",
    "            bag.append(1)\n",
    "        else:\n",
    "            bag.append(0)\n",
    "\n",
    "    output_row = list(output_empty)\n",
    "    # Set the value at the index corresponding to the class of the current document to 1\n",
    "    output_row[classes.index(doc[1])] = 1\n",
    "\n",
    "    # Append a pair of the bag of words and the output row to the training list\n",
    "    training.append((bag, output_row))"
   ]
  },
  {
   "cell_type": "code",
   "execution_count": 10,
   "metadata": {},
   "outputs": [],
   "source": [
    "# Shuffle the training data randomly\n",
    "random.shuffle(training)\n",
    "\n",
    "# Convert the training list to a NumPy array\n",
    "# training = np.array(training)\n",
    "\n",
    "# Separate the features (X_train) and labels (y_train) from the training array\n",
    "# X_train = list(training[:,0])\n",
    "# y_train = list(training[:,1])\n",
    "X_train = np.array([item[0] for item in training])  # Convert bag to NumPy array\n",
    "y_train = np.array([item[1] for item in training])  # Convert output_row to NumPy array"
   ]
  },
  {
   "cell_type": "markdown",
   "metadata": {},
   "source": [
    "## 5. Modelling"
   ]
  },
  {
   "cell_type": "code",
   "execution_count": 33,
   "metadata": {},
   "outputs": [],
   "source": [
    "def initialize_model():\n",
    "    model=Sequential()\n",
    "    model.add(Dense(128, activation='relu', input_shape=(len(X_train[0]),)))\n",
    "    model.add(Dropout(0.5))\n",
    "    model.add(Dense(64, activation='relu'))\n",
    "    model.add(Dense(64, activation='relu'))\n",
    "    model.add(Dropout(0.5))\n",
    "    model.add(Dense(len(y_train[0]), activation='softmax'))\n",
    "\n",
    "    adam = keras.optimizers.Adam(0.001)\n",
    "    model.compile(optimizer=adam,\n",
    "                  loss='categorical_crossentropy',\n",
    "                  metrics=['accuracy'])\n",
    "\n",
    "    early_stopping = EarlyStopping(monitor='accuracy', patience=10, restore_best_weights=True)\n",
    "\n",
    "    return model, early_stopping"
   ]
  },
  {
   "cell_type": "code",
   "execution_count": 35,
   "metadata": {},
   "outputs": [],
   "source": [
    "model, early_stopping = initialize_model()\n"
   ]
  },
  {
   "cell_type": "code",
   "execution_count": 36,
   "metadata": {},
   "outputs": [],
   "source": [
    "def train_model(model, X_train, y_train, early_stopping):\n",
    "    history = model.fit(X_train, y_train,\n",
    "                        epochs=200,\n",
    "                        batch_size=10,\n",
    "                        callbacks=[early_stopping],\n",
    "                        verbose=-1)\n",
    "    \n",
    "    return history"
   ]
  },
  {
   "cell_type": "code",
   "execution_count": 45,
   "metadata": {},
   "outputs": [
    {
     "name": "stdout",
     "output_type": "stream",
     "text": [
      "Epoch 1/200\n",
      "Epoch 2/200\n",
      "Epoch 3/200\n",
      "Epoch 4/200\n",
      "Epoch 5/200\n",
      "Epoch 6/200\n",
      "Epoch 7/200\n",
      "Epoch 8/200\n",
      "Epoch 9/200\n",
      "Epoch 10/200\n",
      "Epoch 11/200\n",
      "Epoch 12/200\n",
      "Epoch 13/200\n",
      "Epoch 14/200\n",
      "Epoch 15/200\n",
      "Epoch 16/200\n",
      "Epoch 17/200\n",
      "Epoch 18/200\n",
      "Epoch 19/200\n",
      "Epoch 20/200\n",
      "Epoch 21/200\n",
      "Epoch 22/200\n",
      "Epoch 23/200\n",
      "Epoch 24/200\n",
      "Epoch 25/200\n",
      "Epoch 26/200\n",
      "Epoch 27/200\n",
      "Epoch 28/200\n",
      "Epoch 29/200\n",
      "Epoch 30/200\n",
      "Epoch 31/200\n",
      "Epoch 32/200\n",
      "Epoch 33/200\n",
      "Epoch 34/200\n",
      "Epoch 35/200\n",
      "Epoch 36/200\n",
      "dict_keys(['loss', 'accuracy'])\n"
     ]
    },
    {
     "data": {
      "text/plain": [
       "0.9642857313156128"
      ]
     },
     "execution_count": 45,
     "metadata": {},
     "output_type": "execute_result"
    }
   ],
   "source": [
    "history = train_model(model, X_train, y_train, early_stopping)\n",
    "print(history.history.keys())\n",
    "max(history.history['accuracy'])"
   ]
  },
  {
   "cell_type": "code",
   "execution_count": 46,
   "metadata": {},
   "outputs": [],
   "source": [
    "def save_model(history):\n",
    "    for version in range(1, 99):\n",
    "        file = f'kaybot_model_{str(version)}.h5'\n",
    "        file_path = os.path.join(MODEL_PATH, file)\n",
    "        if not os.path.exists(file_path):\n",
    "            model.save(file_path, history)\n",
    "            print(f'✅ Model saved as \"{file}\"')\n",
    "            break\n",
    "    return None\n"
   ]
  },
  {
   "cell_type": "code",
   "execution_count": 47,
   "metadata": {},
   "outputs": [
    {
     "name": "stdout",
     "output_type": "stream",
     "text": [
      "✅ Model saved as \"kaybot_model_1.h5\"\n"
     ]
    },
    {
     "name": "stderr",
     "output_type": "stream",
     "text": [
      "/home/jarisfenner/.pyenv/versions/3.10.6/envs/KayBot/lib/python3.10/site-packages/keras/src/engine/training.py:3103: UserWarning: You are saving your model as an HDF5 file via `model.save()`. This file format is considered legacy. We recommend using instead the native Keras format, e.g. `model.save('my_model.keras')`.\n",
      "  saving_api.save_model(\n"
     ]
    }
   ],
   "source": [
    "save_model(history)"
   ]
  },
  {
   "cell_type": "markdown",
   "metadata": {},
   "source": [
    "## 6. "
   ]
  },
  {
   "cell_type": "code",
   "execution_count": null,
   "metadata": {},
   "outputs": [],
   "source": [
    "model = load_model('mymodel.h5')\n",
    "intents = json.loads(open('intents.json').read())\n",
    "words = pickle.load(open('words.pkl','rb'))\n",
    "classes = pickle.load(open('classes.pkl','rb'))"
   ]
  }
 ],
 "metadata": {
  "kernelspec": {
   "display_name": "KayBot",
   "language": "python",
   "name": "python3"
  },
  "language_info": {
   "codemirror_mode": {
    "name": "ipython",
    "version": 3
   },
   "file_extension": ".py",
   "mimetype": "text/x-python",
   "name": "python",
   "nbconvert_exporter": "python",
   "pygments_lexer": "ipython3",
   "version": "3.10.6"
  }
 },
 "nbformat": 4,
 "nbformat_minor": 2
}
